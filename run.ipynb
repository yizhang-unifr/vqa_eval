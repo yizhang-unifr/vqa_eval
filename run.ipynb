{
 "cells": [
  {
   "cell_type": "markdown",
   "metadata": {},
   "source": [
    "# VQA Eval Tool\n",
    "\n",
    "This notebook is to eval the VQA model for Artwork dataset"
   ]
  },
  {
   "cell_type": "code",
   "execution_count": null,
   "metadata": {},
   "outputs": [],
   "source": [
    "# preparing the data \n",
    "\n",
    "# !rm -rf vqa_eval\n",
    "# git clone\n",
    "# %git clone \n",
    "# %cd vqa_eval\n",
    "# %pip install ipywidgets\n",
    "# %pip install -r requirements.txt"
   ]
  },
  {
   "cell_type": "code",
   "execution_count": 1,
   "metadata": {},
   "outputs": [
    {
     "name": "stdout",
     "output_type": "stream",
     "text": [
      "How many people are there in the painting?\n"
     ]
    },
    {
     "data": {
      "text/html": [
       "<table border=\"1\" class=\"dataframe\">\n",
       "  <thead>\n",
       "    <tr style=\"text-align: right;\">\n",
       "      <th></th>\n",
       "      <th>Image ID</th>\n",
       "      <th>Image Path</th>\n",
       "      <th>Images</th>\n",
       "      <th>Result</th>\n",
       "    </tr>\n",
       "  </thead>\n",
       "  <tbody>\n",
       "    <tr>\n",
       "      <th>0</th>\n",
       "      <td>0</td>\n",
       "      <td>images/artwork/img_0.jpg</td>\n",
       "      <td><img src=\"data:image/jpeg;base64,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\"></td>\n",
       "      <td>0</td>\n",
       "    </tr>\n",
       "    <tr>\n",
       "      <th>1</th>\n",
       "      <td>5</td>\n",
       "      <td>images/artwork/img_5.jpg</td>\n",
       "      <td><img src=\"data:image/jpeg;base64,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\"></td>\n",
       "      <td>1</td>\n",
       "    </tr>\n",
       "    <tr>\n",
       "      <th>2</th>\n",
       "      <td>10</td>\n",
       "      <td>images/artwork/img_10.jpg</td>\n",
       "      <td><img src=\"data:image/jpeg;base64,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\"></td>\n",
       "      <td>3</td>\n",
       "    </tr>\n",
       "  </tbody>\n",
       "</table>"
      ],
      "text/plain": [
       "<IPython.core.display.HTML object>"
      ]
     },
     "execution_count": 1,
     "metadata": {},
     "output_type": "execute_result"
    }
   ],
   "source": [
    "from src.util import VisualQA, to_df, image_formatter\n",
    "from tqdm import tqdm as notebook_tqdm\n",
    "from pathlib import Path\n",
    "\n",
    "import pandas as pd\n",
    "from PIL import Image\n",
    "from io import BytesIO\n",
    "from IPython.display import display, HTML\n",
    "import io\n",
    "\n",
    "visualqa = VisualQA()\n",
    "root = Path.cwd()\n",
    "images = root / \"images\"\n",
    "artwork = images / \"artwork\"\n",
    "image_ids = [0, 5, 10]\n",
    "image_paths = [artwork / f\"img_{str(image_id)}.jpg\" for image_id in image_ids]\n",
    "query = \"How many people are there in the painting?\"\n",
    "results = visualqa.extract(image_paths, query)\n",
    "df = to_df(results, image_ids, image_paths, root)\n",
    "print(query)\n",
    "\n",
    "HTML(df.to_html(formatters={'Images': image_formatter}, escape=False))\n"
   ]
  }
 ],
 "metadata": {
  "kernelspec": {
   "display_name": "caesura",
   "language": "python",
   "name": "python3"
  },
  "language_info": {
   "codemirror_mode": {
    "name": "ipython",
    "version": 3
   },
   "file_extension": ".py",
   "mimetype": "text/x-python",
   "name": "python",
   "nbconvert_exporter": "python",
   "pygments_lexer": "ipython3",
   "version": "3.11.9"
  }
 },
 "nbformat": 4,
 "nbformat_minor": 2
}
