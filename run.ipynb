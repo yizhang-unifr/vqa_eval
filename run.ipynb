{
 "cells": [
  {
   "cell_type": "markdown",
   "metadata": {},
   "source": [
    "# VQA Eval Tool\n",
    "\n",
    "This notebook is to eval the VQA model for Artwork dataset"
   ]
  },
  {
   "cell_type": "code",
   "execution_count": null,
   "metadata": {},
   "outputs": [],
   "source": [
    "# preparing the data \n",
    "\n",
    "# !rm -rf vqa_eval\n",
    "# git clone\n",
    "# %git clone \n",
    "# %cd vqa_eval\n",
    "# %pip install ipywidgets\n",
    "# %pip install -r requirements.txt"
   ]
  },
  {
   "cell_type": "code",
   "execution_count": null,
   "metadata": {},
   "outputs": [
    {
     "name": "stdout",
     "output_type": "stream",
     "text": [
      "How many people are there in the painting?\n",
      "   Image ID                 Image Path Result\n",
      "0         0   images/artwork/img_0.jpg      0\n",
      "1         5   images/artwork/img_5.jpg      1\n",
      "2        10  images/artwork/img_10.jpg      3\n"
     ]
    }
   ],
   "source": [
    "from src.util import VisualQA, to_df\n",
    "from tqdm import tqdm as notebook_tqdm\n",
    "from pathlib import Path\n",
    "\n",
    "import pandas as pd\n",
    "from PIL import Image\n",
    "from io import BytesIO\n",
    "from IPython.display import display, HTML\n",
    "import io\n",
    "\n",
    "visualqa = VisualQA()\n",
    "root = Path.cwd()\n",
    "images = root / \"images\"\n",
    "artwork = images / \"artwork\"\n",
    "image_ids = [0, 5, 10]\n",
    "image_paths = [artwork / f\"img_{str(image_id)}.jpg\" for image_id in image_ids]\n",
    "query = \"How many people are there in the painting?\"\n",
    "results = visualqa.extract(image_paths, query)\n",
    "df = to_df(results, image_ids, image_paths, root)\n",
    "print(query)\n",
    "print(df)\n"
   ]
  }
 ],
 "metadata": {
  "kernelspec": {
   "display_name": "caesura",
   "language": "python",
   "name": "python3"
  },
  "language_info": {
   "codemirror_mode": {
    "name": "ipython",
    "version": 3
   },
   "file_extension": ".py",
   "mimetype": "text/x-python",
   "name": "python",
   "nbconvert_exporter": "python",
   "pygments_lexer": "ipython3",
   "version": "3.11.9"
  }
 },
 "nbformat": 4,
 "nbformat_minor": 2
}
